{
  "nbformat": 4,
  "nbformat_minor": 0,
  "metadata": {
    "colab": {
      "provenance": [],
      "authorship_tag": "ABX9TyMQRmoSYZgD1gACblW3yPb1",
      "include_colab_link": true
    },
    "kernelspec": {
      "name": "python3",
      "display_name": "Python 3"
    },
    "language_info": {
      "name": "python"
    }
  },
  "cells": [
    {
      "cell_type": "markdown",
      "metadata": {
        "id": "view-in-github",
        "colab_type": "text"
      },
      "source": [
        "<a href=\"https://colab.research.google.com/github/vverma2002/angularjs-modules/blob/main/supervised/support%20vector%20machines/Support_Vector_Machines_1.ipynb\" target=\"_parent\"><img src=\"https://colab.research.google.com/assets/colab-badge.svg\" alt=\"Open In Colab\"/></a>"
      ]
    },
    {
      "cell_type": "code",
      "execution_count": 1,
      "metadata": {
        "colab": {
          "base_uri": "https://localhost:8080/"
        },
        "id": "cAhCcwL2asyd",
        "outputId": "7f68b832-1f6d-4c79-c18d-32ef2d4b7d16"
      },
      "outputs": [
        {
          "output_type": "stream",
          "name": "stdout",
          "text": [
            "Prediction: [8]\n"
          ]
        }
      ],
      "source": [
        "import numpy as np\n",
        "from sklearn import datasets\n",
        "from sklearn import svm\n",
        "\n",
        "# Load the digits dataset\n",
        "digits = datasets.load_digits()\n",
        "\n",
        "# Create a support vector classifier\n",
        "clf = svm.SVC(gamma=0.001, C=100)\n",
        "\n",
        "# Split the dataset into training and testing data\n",
        "X, y = digits.data[:-1], digits.target[:-1]\n",
        "clf.fit(X, y)\n",
        "\n",
        "# Test the classifier with the last image in the dataset\n",
        "prediction = clf.predict(digits.data[-1:])\n",
        "print(\"Prediction:\", prediction)"
      ]
    }
  ]
}